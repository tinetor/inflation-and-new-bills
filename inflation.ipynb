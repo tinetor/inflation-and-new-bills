{
 "cells": [
  {
   "cell_type": "markdown",
   "metadata": {},
   "source": [
    "### Loading Data Cash in circulation###"
   ]
  },
  {
   "cell_type": "markdown",
   "metadata": {},
   "source": [
    "**Import**"
   ]
  },
  {
   "cell_type": "code",
   "execution_count": 354,
   "metadata": {},
   "outputs": [],
   "source": [
    "import requests\n",
    "import pandas as pd\n",
    "import json\n",
    "import seaborn as sns"
   ]
  },
  {
   "cell_type": "markdown",
   "metadata": {},
   "source": [
    "**Request API**"
   ]
  },
  {
   "cell_type": "code",
   "execution_count": 355,
   "metadata": {},
   "outputs": [
    {
     "name": "stdout",
     "output_type": "stream",
     "text": [
      "200\n"
     ]
    }
   ],
   "source": [
    "response = requests.get(\"https://olinda.bcb.gov.br/olinda/servico/mecir_dinheiro_em_circulacao/versao/v1/odata/informacoes_diarias\")\n",
    "print(response.status_code)"
   ]
  },
  {
   "cell_type": "markdown",
   "metadata": {},
   "source": [
    "**Convert from json to Dataframe**"
   ]
  },
  {
   "cell_type": "code",
   "execution_count": 356,
   "metadata": {},
   "outputs": [
    {
     "data": {
      "text/plain": [
       "dict_keys(['@odata.context', 'value'])"
      ]
     },
     "execution_count": 356,
     "metadata": {},
     "output_type": "execute_result"
    }
   ],
   "source": [
    "r=response.json()\n",
    "r.keys()"
   ]
  },
  {
   "cell_type": "markdown",
   "metadata": {},
   "source": [
    "We interesting in the values inside value."
   ]
  },
  {
   "cell_type": "code",
   "execution_count": 357,
   "metadata": {},
   "outputs": [],
   "source": [
    "flow = pd.DataFrame(r['value'])"
   ]
  },
  {
   "cell_type": "code",
   "execution_count": 358,
   "metadata": {
    "scrolled": false
   },
   "outputs": [
    {
     "data": {
      "text/html": [
       "<div>\n",
       "<style scoped>\n",
       "    .dataframe tbody tr th:only-of-type {\n",
       "        vertical-align: middle;\n",
       "    }\n",
       "\n",
       "    .dataframe tbody tr th {\n",
       "        vertical-align: top;\n",
       "    }\n",
       "\n",
       "    .dataframe thead th {\n",
       "        text-align: right;\n",
       "    }\n",
       "</style>\n",
       "<table border=\"1\" class=\"dataframe\">\n",
       "  <thead>\n",
       "    <tr style=\"text-align: right;\">\n",
       "      <th></th>\n",
       "      <th>Data</th>\n",
       "      <th>Quantidade</th>\n",
       "      <th>Valor</th>\n",
       "      <th>Denominacao</th>\n",
       "      <th>Especie</th>\n",
       "    </tr>\n",
       "  </thead>\n",
       "  <tbody>\n",
       "    <tr>\n",
       "      <th>0</th>\n",
       "      <td>1994-10-03</td>\n",
       "      <td>692701959</td>\n",
       "      <td>6.927020e+06</td>\n",
       "      <td>0.01</td>\n",
       "      <td>Moedas</td>\n",
       "    </tr>\n",
       "    <tr>\n",
       "      <th>1</th>\n",
       "      <td>1994-10-03</td>\n",
       "      <td>462277579</td>\n",
       "      <td>2.311388e+07</td>\n",
       "      <td>0.05</td>\n",
       "      <td>Moedas</td>\n",
       "    </tr>\n",
       "    <tr>\n",
       "      <th>2</th>\n",
       "      <td>1994-10-03</td>\n",
       "      <td>404559065</td>\n",
       "      <td>4.045591e+07</td>\n",
       "      <td>0.10</td>\n",
       "      <td>Moedas</td>\n",
       "    </tr>\n",
       "    <tr>\n",
       "      <th>3</th>\n",
       "      <td>1994-10-03</td>\n",
       "      <td>1492870</td>\n",
       "      <td>3.732175e+05</td>\n",
       "      <td>0.25</td>\n",
       "      <td>Moedas</td>\n",
       "    </tr>\n",
       "    <tr>\n",
       "      <th>4</th>\n",
       "      <td>1994-10-03</td>\n",
       "      <td>278901842</td>\n",
       "      <td>1.394509e+08</td>\n",
       "      <td>0.50</td>\n",
       "      <td>Moedas</td>\n",
       "    </tr>\n",
       "  </tbody>\n",
       "</table>\n",
       "</div>"
      ],
      "text/plain": [
       "         Data  Quantidade         Valor Denominacao Especie\n",
       "0  1994-10-03   692701959  6.927020e+06        0.01  Moedas\n",
       "1  1994-10-03   462277579  2.311388e+07        0.05  Moedas\n",
       "2  1994-10-03   404559065  4.045591e+07        0.10  Moedas\n",
       "3  1994-10-03     1492870  3.732175e+05        0.25  Moedas\n",
       "4  1994-10-03   278901842  1.394509e+08        0.50  Moedas"
      ]
     },
     "execution_count": 358,
     "metadata": {},
     "output_type": "execute_result"
    }
   ],
   "source": [
    "flow.head()"
   ]
  },
  {
   "cell_type": "code",
   "execution_count": 359,
   "metadata": {},
   "outputs": [
    {
     "name": "stdout",
     "output_type": "stream",
     "text": [
      "<class 'pandas.core.frame.DataFrame'>\n",
      "RangeIndex: 80995 entries, 0 to 80994\n",
      "Data columns (total 5 columns):\n",
      " #   Column       Non-Null Count  Dtype  \n",
      "---  ------       --------------  -----  \n",
      " 0   Data         80995 non-null  object \n",
      " 1   Quantidade   80995 non-null  int64  \n",
      " 2   Valor        80995 non-null  float64\n",
      " 3   Denominacao  80995 non-null  object \n",
      " 4   Especie      80995 non-null  object \n",
      "dtypes: float64(1), int64(1), object(3)\n",
      "memory usage: 3.1+ MB\n"
     ]
    }
   ],
   "source": [
    "flow.info()"
   ]
  },
  {
   "cell_type": "markdown",
   "metadata": {},
   "source": [
    "**Fix data format**"
   ]
  },
  {
   "cell_type": "markdown",
   "metadata": {},
   "source": [
    "Data is an object dtype, but for this analysis is more convenient a DateTime format."
   ]
  },
  {
   "cell_type": "code",
   "execution_count": 360,
   "metadata": {},
   "outputs": [],
   "source": [
    "flow['Data']=pd.to_datetime(flow['Data'])  \n"
   ]
  },
  {
   "cell_type": "markdown",
   "metadata": {},
   "source": [
    "Denominacao Should be a numeric value,but it is an object what is a redflag for inconsistency even thought we want to keep as an object."
   ]
  },
  {
   "cell_type": "code",
   "execution_count": 361,
   "metadata": {},
   "outputs": [
    {
     "data": {
      "text/plain": [
       "array(['0.01', '0.05', '0.10', '0.25', '0.50', '1.00', '5.00', '10.00',\n",
       "       '50.00', '100.00', '2.00', '20.00', '200.00'], dtype=object)"
      ]
     },
     "execution_count": 361,
     "metadata": {},
     "output_type": "execute_result"
    }
   ],
   "source": [
    "flow['Denominacao'].unique()"
   ]
  },
  {
   "cell_type": "code",
   "execution_count": 362,
   "metadata": {},
   "outputs": [
    {
     "data": {
      "text/plain": [
       "0       1994-10-03\n",
       "1       1994-10-03\n",
       "2       1994-10-03\n",
       "3       1994-10-03\n",
       "4       1994-10-03\n",
       "           ...    \n",
       "80990   2020-09-17\n",
       "80991   2020-09-17\n",
       "80992   2020-09-17\n",
       "80993   2020-09-17\n",
       "80994   2020-09-17\n",
       "Name: Data, Length: 80995, dtype: datetime64[ns]"
      ]
     },
     "execution_count": 362,
     "metadata": {},
     "output_type": "execute_result"
    }
   ],
   "source": [
    "flow['Data']"
   ]
  },
  {
   "cell_type": "markdown",
   "metadata": {},
   "source": [
    "No problems with Denominacao."
   ]
  },
  {
   "cell_type": "code",
   "execution_count": 363,
   "metadata": {},
   "outputs": [
    {
     "data": {
      "text/html": [
       "<div>\n",
       "<style scoped>\n",
       "    .dataframe tbody tr th:only-of-type {\n",
       "        vertical-align: middle;\n",
       "    }\n",
       "\n",
       "    .dataframe tbody tr th {\n",
       "        vertical-align: top;\n",
       "    }\n",
       "\n",
       "    .dataframe thead th {\n",
       "        text-align: right;\n",
       "    }\n",
       "</style>\n",
       "<table border=\"1\" class=\"dataframe\">\n",
       "  <thead>\n",
       "    <tr style=\"text-align: right;\">\n",
       "      <th></th>\n",
       "      <th>Data</th>\n",
       "      <th>Quantidade</th>\n",
       "      <th>Valor</th>\n",
       "      <th>Denominacao</th>\n",
       "      <th>Especie</th>\n",
       "    </tr>\n",
       "  </thead>\n",
       "  <tbody>\n",
       "    <tr>\n",
       "      <th>0</th>\n",
       "      <td>1994-10-03</td>\n",
       "      <td>692701959</td>\n",
       "      <td>6.927020e+06</td>\n",
       "      <td>0.01</td>\n",
       "      <td>Moedas</td>\n",
       "    </tr>\n",
       "    <tr>\n",
       "      <th>1</th>\n",
       "      <td>1994-10-03</td>\n",
       "      <td>462277579</td>\n",
       "      <td>2.311388e+07</td>\n",
       "      <td>0.05</td>\n",
       "      <td>Moedas</td>\n",
       "    </tr>\n",
       "    <tr>\n",
       "      <th>2</th>\n",
       "      <td>1994-10-03</td>\n",
       "      <td>404559065</td>\n",
       "      <td>4.045591e+07</td>\n",
       "      <td>0.10</td>\n",
       "      <td>Moedas</td>\n",
       "    </tr>\n",
       "    <tr>\n",
       "      <th>3</th>\n",
       "      <td>1994-10-03</td>\n",
       "      <td>1492870</td>\n",
       "      <td>3.732175e+05</td>\n",
       "      <td>0.25</td>\n",
       "      <td>Moedas</td>\n",
       "    </tr>\n",
       "    <tr>\n",
       "      <th>4</th>\n",
       "      <td>1994-10-03</td>\n",
       "      <td>278901842</td>\n",
       "      <td>1.394509e+08</td>\n",
       "      <td>0.50</td>\n",
       "      <td>Moedas</td>\n",
       "    </tr>\n",
       "  </tbody>\n",
       "</table>\n",
       "</div>"
      ],
      "text/plain": [
       "        Data  Quantidade         Valor Denominacao Especie\n",
       "0 1994-10-03   692701959  6.927020e+06        0.01  Moedas\n",
       "1 1994-10-03   462277579  2.311388e+07        0.05  Moedas\n",
       "2 1994-10-03   404559065  4.045591e+07        0.10  Moedas\n",
       "3 1994-10-03     1492870  3.732175e+05        0.25  Moedas\n",
       "4 1994-10-03   278901842  1.394509e+08        0.50  Moedas"
      ]
     },
     "execution_count": 363,
     "metadata": {},
     "output_type": "execute_result"
    }
   ],
   "source": [
    "flow.head()"
   ]
  },
  {
   "cell_type": "code",
   "execution_count": 364,
   "metadata": {},
   "outputs": [],
   "source": [
    "flow=flow['Data'].dt.to_period('M') "
   ]
  },
  {
   "cell_type": "markdown",
   "metadata": {},
   "source": [
    "### Loading inflation ###"
   ]
  },
  {
   "cell_type": "code",
   "execution_count": 365,
   "metadata": {},
   "outputs": [],
   "source": [
    "inflation=pd.read_csv('C:\\\\Users\\\\tiago\\\\OneDrive\\\\Documentos\\\\Nota 200 conto\\\\tabela1737.csv')"
   ]
  },
  {
   "cell_type": "code",
   "execution_count": 366,
   "metadata": {},
   "outputs": [
    {
     "data": {
      "text/html": [
       "<div>\n",
       "<style scoped>\n",
       "    .dataframe tbody tr th:only-of-type {\n",
       "        vertical-align: middle;\n",
       "    }\n",
       "\n",
       "    .dataframe tbody tr th {\n",
       "        vertical-align: top;\n",
       "    }\n",
       "\n",
       "    .dataframe thead th {\n",
       "        text-align: right;\n",
       "    }\n",
       "</style>\n",
       "<table border=\"1\" class=\"dataframe\">\n",
       "  <thead>\n",
       "    <tr style=\"text-align: right;\">\n",
       "      <th></th>\n",
       "      <th>Tabela 1737 - IPCA - Série histórica com número-índice, variação mensal e variações acumuladas em 3 meses, em 6 meses, no ano e em 12 meses (a partir de dezembro/1979)</th>\n",
       "      <th>Unnamed: 1</th>\n",
       "      <th>Unnamed: 2</th>\n",
       "      <th>Unnamed: 3</th>\n",
       "      <th>Unnamed: 4</th>\n",
       "      <th>Unnamed: 5</th>\n",
       "      <th>Unnamed: 6</th>\n",
       "      <th>Unnamed: 7</th>\n",
       "    </tr>\n",
       "  </thead>\n",
       "  <tbody>\n",
       "    <tr>\n",
       "      <th>0</th>\n",
       "      <td>NaN</td>\n",
       "      <td>Mês</td>\n",
       "      <td>Variável</td>\n",
       "      <td>NaN</td>\n",
       "      <td>NaN</td>\n",
       "      <td>NaN</td>\n",
       "      <td>NaN</td>\n",
       "      <td>NaN</td>\n",
       "    </tr>\n",
       "    <tr>\n",
       "      <th>1</th>\n",
       "      <td>NaN</td>\n",
       "      <td>NaN</td>\n",
       "      <td>IPCA - Número-índice (base: dezembro de 1993 =...</td>\n",
       "      <td>IPCA - Variação mensal (%)</td>\n",
       "      <td>IPCA - Variação acumulada em 3 meses (%)</td>\n",
       "      <td>IPCA - Variação acumulada em 6 meses (%)</td>\n",
       "      <td>IPCA - Variação acumulada no ano (%)</td>\n",
       "      <td>IPCA - Variação acumulada em 12 meses (%)</td>\n",
       "    </tr>\n",
       "    <tr>\n",
       "      <th>2</th>\n",
       "      <td>Brasil</td>\n",
       "      <td>dezembro 1979</td>\n",
       "      <td>7.6183E-09</td>\n",
       "      <td>...</td>\n",
       "      <td>...</td>\n",
       "      <td>...</td>\n",
       "      <td>...</td>\n",
       "      <td>...</td>\n",
       "    </tr>\n",
       "    <tr>\n",
       "      <th>3</th>\n",
       "      <td>NaN</td>\n",
       "      <td>janeiro 1980</td>\n",
       "      <td>8.1223E-09</td>\n",
       "      <td>6.62</td>\n",
       "      <td>...</td>\n",
       "      <td>...</td>\n",
       "      <td>6.62</td>\n",
       "      <td>...</td>\n",
       "    </tr>\n",
       "    <tr>\n",
       "      <th>4</th>\n",
       "      <td>NaN</td>\n",
       "      <td>fevereiro 1980</td>\n",
       "      <td>8.4973E-09</td>\n",
       "      <td>4.62</td>\n",
       "      <td>...</td>\n",
       "      <td>...</td>\n",
       "      <td>11.54</td>\n",
       "      <td>...</td>\n",
       "    </tr>\n",
       "  </tbody>\n",
       "</table>\n",
       "</div>"
      ],
      "text/plain": [
       "  Tabela 1737 - IPCA - Série histórica com número-índice, variação mensal e variações acumuladas em 3 meses, em 6 meses, no ano e em 12 meses (a partir de dezembro/1979)  \\\n",
       "0                                                NaN                                                                                                                        \n",
       "1                                                NaN                                                                                                                        \n",
       "2                                             Brasil                                                                                                                        \n",
       "3                                                NaN                                                                                                                        \n",
       "4                                                NaN                                                                                                                        \n",
       "\n",
       "       Unnamed: 1                                         Unnamed: 2  \\\n",
       "0             Mês                                           Variável   \n",
       "1             NaN  IPCA - Número-índice (base: dezembro de 1993 =...   \n",
       "2   dezembro 1979                                         7.6183E-09   \n",
       "3    janeiro 1980                                         8.1223E-09   \n",
       "4  fevereiro 1980                                         8.4973E-09   \n",
       "\n",
       "                   Unnamed: 3                                Unnamed: 4  \\\n",
       "0                         NaN                                       NaN   \n",
       "1  IPCA - Variação mensal (%)  IPCA - Variação acumulada em 3 meses (%)   \n",
       "2                         ...                                       ...   \n",
       "3                        6.62                                       ...   \n",
       "4                        4.62                                       ...   \n",
       "\n",
       "                                 Unnamed: 5  \\\n",
       "0                                       NaN   \n",
       "1  IPCA - Variação acumulada em 6 meses (%)   \n",
       "2                                       ...   \n",
       "3                                       ...   \n",
       "4                                       ...   \n",
       "\n",
       "                             Unnamed: 6  \\\n",
       "0                                   NaN   \n",
       "1  IPCA - Variação acumulada no ano (%)   \n",
       "2                                   ...   \n",
       "3                                  6.62   \n",
       "4                                 11.54   \n",
       "\n",
       "                                  Unnamed: 7  \n",
       "0                                        NaN  \n",
       "1  IPCA - Variação acumulada em 12 meses (%)  \n",
       "2                                        ...  \n",
       "3                                        ...  \n",
       "4                                        ...  "
      ]
     },
     "execution_count": 366,
     "metadata": {},
     "output_type": "execute_result"
    }
   ],
   "source": [
    "inflation.head()"
   ]
  },
  {
   "cell_type": "markdown",
   "metadata": {},
   "source": [
    "We are insterested in the columns Unnamed: 1 and Unnamed: 3, but the column labels are shifted let's adress this problem. "
   ]
  },
  {
   "cell_type": "code",
   "execution_count": 367,
   "metadata": {},
   "outputs": [],
   "source": [
    "inflation=inflation.iloc[2:,[1,3]]"
   ]
  },
  {
   "cell_type": "code",
   "execution_count": 368,
   "metadata": {},
   "outputs": [],
   "source": [
    "inflation.columns=['year/month','monthly inflation change']"
   ]
  },
  {
   "cell_type": "code",
   "execution_count": 369,
   "metadata": {},
   "outputs": [
    {
     "name": "stdout",
     "output_type": "stream",
     "text": [
      "<class 'pandas.core.frame.DataFrame'>\n",
      "RangeIndex: 490 entries, 2 to 491\n",
      "Data columns (total 2 columns):\n",
      " #   Column                    Non-Null Count  Dtype \n",
      "---  ------                    --------------  ----- \n",
      " 0   year/month                489 non-null    object\n",
      " 1   monthly inflation change  489 non-null    object\n",
      "dtypes: object(2)\n",
      "memory usage: 7.8+ KB\n"
     ]
    }
   ],
   "source": [
    "inflation.info()"
   ]
  },
  {
   "cell_type": "markdown",
   "metadata": {},
   "source": [
    "We are going to use year/month as the key for merging with cash circulation so we are going to change to the date format mm/yyyy"
   ]
  },
  {
   "cell_type": "code",
   "execution_count": 370,
   "metadata": {},
   "outputs": [],
   "source": [
    "months={'janeiro':'01-','fevereiro':'02-','março':'03-','abril':'04-','maio':'05-','junho':'06-','julho':'07-',\n",
    "      'agosto':'08-','setembro':'09-','outubro':'10-','novembro':'11-','dezembro':'12-'}      "
   ]
  },
  {
   "cell_type": "code",
   "execution_count": 371,
   "metadata": {},
   "outputs": [],
   "source": [
    "for key in months.keys():\n",
    "    inflation['year/month']=inflation['year/month'].str.replace(key,months[key])\n",
    "inflation['year/month']=inflation['year/month'].str.replace(' ','')"
   ]
  },
  {
   "cell_type": "code",
   "execution_count": 372,
   "metadata": {},
   "outputs": [],
   "source": [
    "inflation['year/month']=pd.to_datetime(inflation['year/month']).dt.to_period('M') \n"
   ]
  },
  {
   "cell_type": "code",
   "execution_count": 373,
   "metadata": {},
   "outputs": [
    {
     "data": {
      "text/html": [
       "<div>\n",
       "<style scoped>\n",
       "    .dataframe tbody tr th:only-of-type {\n",
       "        vertical-align: middle;\n",
       "    }\n",
       "\n",
       "    .dataframe tbody tr th {\n",
       "        vertical-align: top;\n",
       "    }\n",
       "\n",
       "    .dataframe thead th {\n",
       "        text-align: right;\n",
       "    }\n",
       "</style>\n",
       "<table border=\"1\" class=\"dataframe\">\n",
       "  <thead>\n",
       "    <tr style=\"text-align: right;\">\n",
       "      <th></th>\n",
       "      <th>year/month</th>\n",
       "      <th>monthly inflation change</th>\n",
       "    </tr>\n",
       "  </thead>\n",
       "  <tbody>\n",
       "    <tr>\n",
       "      <th>2</th>\n",
       "      <td>1979-12</td>\n",
       "      <td>...</td>\n",
       "    </tr>\n",
       "    <tr>\n",
       "      <th>3</th>\n",
       "      <td>1980-01</td>\n",
       "      <td>6.62</td>\n",
       "    </tr>\n",
       "    <tr>\n",
       "      <th>4</th>\n",
       "      <td>1980-02</td>\n",
       "      <td>4.62</td>\n",
       "    </tr>\n",
       "    <tr>\n",
       "      <th>5</th>\n",
       "      <td>1980-03</td>\n",
       "      <td>6.04</td>\n",
       "    </tr>\n",
       "    <tr>\n",
       "      <th>6</th>\n",
       "      <td>1980-04</td>\n",
       "      <td>5.29</td>\n",
       "    </tr>\n",
       "    <tr>\n",
       "      <th>...</th>\n",
       "      <td>...</td>\n",
       "      <td>...</td>\n",
       "    </tr>\n",
       "    <tr>\n",
       "      <th>487</th>\n",
       "      <td>2020-05</td>\n",
       "      <td>-0.38</td>\n",
       "    </tr>\n",
       "    <tr>\n",
       "      <th>488</th>\n",
       "      <td>2020-06</td>\n",
       "      <td>0.26</td>\n",
       "    </tr>\n",
       "    <tr>\n",
       "      <th>489</th>\n",
       "      <td>2020-07</td>\n",
       "      <td>0.36</td>\n",
       "    </tr>\n",
       "    <tr>\n",
       "      <th>490</th>\n",
       "      <td>2020-08</td>\n",
       "      <td>0.24</td>\n",
       "    </tr>\n",
       "    <tr>\n",
       "      <th>491</th>\n",
       "      <td>NaT</td>\n",
       "      <td>NaN</td>\n",
       "    </tr>\n",
       "  </tbody>\n",
       "</table>\n",
       "<p>490 rows × 2 columns</p>\n",
       "</div>"
      ],
      "text/plain": [
       "    year/month monthly inflation change\n",
       "2      1979-12                      ...\n",
       "3      1980-01                     6.62\n",
       "4      1980-02                     4.62\n",
       "5      1980-03                     6.04\n",
       "6      1980-04                     5.29\n",
       "..         ...                      ...\n",
       "487    2020-05                    -0.38\n",
       "488    2020-06                     0.26\n",
       "489    2020-07                     0.36\n",
       "490    2020-08                     0.24\n",
       "491        NaT                      NaN\n",
       "\n",
       "[490 rows x 2 columns]"
      ]
     },
     "execution_count": 373,
     "metadata": {},
     "output_type": "execute_result"
    }
   ],
   "source": [
    "inflation"
   ]
  },
  {
   "cell_type": "markdown",
   "metadata": {},
   "source": [
    "**Merge data**"
   ]
  },
  {
   "cell_type": "code",
   "execution_count": 374,
   "metadata": {},
   "outputs": [],
   "source": [
    "merged=pd.merge(flow, inflation, how='inner', left_on='Data', right_on='year/month')"
   ]
  },
  {
   "cell_type": "code",
   "execution_count": 375,
   "metadata": {},
   "outputs": [],
   "source": [
    "merged.drop(columns='year/month',inplace=True)"
   ]
  },
  {
   "cell_type": "code",
   "execution_count": 377,
   "metadata": {},
   "outputs": [],
   "source": [
    "merged.to_excel(r'C:\\\\Users\\\\tiago\\\\cash_circulation\\\\mergedd.xlsx')"
   ]
  }
 ],
 "metadata": {
  "kernelspec": {
   "display_name": "Python 3",
   "language": "python",
   "name": "python3"
  },
  "language_info": {
   "codemirror_mode": {
    "name": "ipython",
    "version": 3
   },
   "file_extension": ".py",
   "mimetype": "text/x-python",
   "name": "python",
   "nbconvert_exporter": "python",
   "pygments_lexer": "ipython3",
   "version": "3.8.3"
  }
 },
 "nbformat": 4,
 "nbformat_minor": 4
}
